{
  "cells": [
    {
      "cell_type": "code",
      "execution_count": 1,
      "metadata": {
        "id": "e3Syf0_e_vVg"
      },
      "outputs": [],
      "source": [
        "import pandas as pd"
      ]
    },
    {
      "cell_type": "code",
      "source": [
        "!pip install spacy -U\n",
        "!python -m spacy download pl_core_news_lg"
      ],
      "metadata": {
        "id": "XbW-dI0gJomc"
      },
      "execution_count": null,
      "outputs": []
    },
    {
      "cell_type": "code",
      "source": [
        "import spacy\n",
        "import os\n",
        "import regex as re\n",
        "import numpy as np\n",
        "from tqdm import tqdm"
      ],
      "metadata": {
        "id": "PjCiSaa0J_O1"
      },
      "execution_count": 3,
      "outputs": []
    },
    {
      "cell_type": "code",
      "source": [
        "nlp = spacy.load(\"pl_core_news_lg\")"
      ],
      "metadata": {
        "id": "HkDStmUBKB8x"
      },
      "execution_count": 4,
      "outputs": []
    },
    {
      "cell_type": "code",
      "execution_count": 5,
      "metadata": {
        "id": "dis6Q3kBJ5Zd"
      },
      "outputs": [],
      "source": [
        "MAIN_DATA = pd.read_csv(\"/content/maturka zadanko - all_tweets_id (1)matura - all_tweets_id (1).csv\")"
      ]
    },
    {
      "cell_type": "code",
      "execution_count": 6,
      "metadata": {
        "id": "kPsfuZnaKPph"
      },
      "outputs": [],
      "source": [
        "df = MAIN_DATA.copy()"
      ]
    },
    {
      "cell_type": "markdown",
      "source": [
        "Część 1"
      ],
      "metadata": {
        "id": "BtQKtTu0_P5f"
      }
    },
    {
      "cell_type": "code",
      "execution_count": 7,
      "metadata": {
        "id": "RcP0qwJUH4xS",
        "colab": {
          "base_uri": "https://localhost:8080/"
        },
        "outputId": "a2006c7f-6e1b-477f-d6af-498db0dd0642"
      },
      "outputs": [
        {
          "output_type": "execute_result",
          "data": {
            "text/plain": [
              "0       Poniedziałek May 03 19:39:15 +0000 2021\n",
              "1       Poniedziałek May 03 19:37:48 +0000 2021\n",
              "2       Poniedziałek May 03 19:37:03 +0000 2021\n",
              "3       Poniedziałek May 03 19:37:11 +0000 2021\n",
              "4       Poniedziałek May 03 19:37:21 +0000 2021\n",
              "                         ...                   \n",
              "7274       Niedziela Apr 25 21:17:50 +0000 2021\n",
              "7275       Niedziela Apr 25 20:29:36 +0000 2021\n",
              "7276       Niedziela Apr 25 22:00:16 +0000 2021\n",
              "7277       Niedziela Apr 25 22:05:33 +0000 2021\n",
              "7278       Niedziela Apr 25 21:18:19 +0000 2021\n",
              "Name: created_at, Length: 7279, dtype: object"
            ]
          },
          "metadata": {},
          "execution_count": 7
        }
      ],
      "source": [
        "#1 Zamień skróty nazw dni tygodnia na polskie odpowiedniki (pełne nazwy dni tygodnia) - kolumna created_at\n",
        "df[\"created_at\"] = [elem.replace(\"Mon\", \"Poniedziałek\") for elem in df[\"created_at\"]]\n",
        "df[\"created_at\"] = [elem.replace(\"Tue\", \"Wtorek\") for elem in df[\"created_at\"]]\n",
        "df[\"created_at\"] = [elem.replace(\"Wed\", \"Środa\") for elem in df[\"created_at\"]]\n",
        "df[\"created_at\"] = [elem.replace(\"Thu\", \"Czwartek\") for elem in df[\"created_at\"]]\n",
        "df[\"created_at\"] = [elem.replace(\"Fri\", \"Piątek\") for elem in df[\"created_at\"]]\n",
        "df[\"created_at\"] = [elem.replace(\"Sat\", \"Sobota\") for elem in df[\"created_at\"]]\n",
        "df[\"created_at\"] = [elem.replace(\"Sun\", \"Niedziela\") for elem in df[\"created_at\"]]\n",
        "df[\"created_at\"]"
      ]
    },
    {
      "cell_type": "code",
      "execution_count": null,
      "metadata": {
        "id": "BuZLjYd5G1Qs"
      },
      "outputs": [],
      "source": [
        "#2 Zamień skróty nazw miesięcy na liczbowe odpowiedniki (np Jun na 06) - kolumna user_created_at\n",
        "df[\"user_created_at\"] = [elem.replace(\"Jan\", \"01\") for elem in df[\"user_created_at\"]]\n",
        "df[\"user_created_at\"] = [elem.replace(\"Feb\", \"02\") for elem in df[\"user_created_at\"]]\n",
        "df[\"user_created_at\"] = [elem.replace(\"Mar\", \"03\") for elem in df[\"user_created_at\"]]\n",
        "df[\"user_created_at\"] = [elem.replace(\"Apr\", \"04\") for elem in df[\"user_created_at\"]]\n",
        "df[\"user_created_at\"] = [elem.replace(\"May\", \"05\") for elem in df[\"user_created_at\"]]\n",
        "df[\"user_created_at\"] = [elem.replace(\"Jun\", \"06\") for elem in df[\"user_created_at\"]]\n",
        "df[\"user_created_at\"] = [elem.replace(\"Jul\", \"07\") for elem in df[\"user_created_at\"]]\n",
        "df[\"user_created_at\"] = [elem.replace(\"Aug\", \"08\") for elem in df[\"user_created_at\"]]\n",
        "df[\"user_created_at\"] = [elem.replace(\"Sep\", \"09\") for elem in df[\"user_created_at\"]]\n",
        "df[\"user_created_at\"] = [elem.replace(\"Oct\", \"10\") for elem in df[\"user_created_at\"]]\n",
        "df[\"user_created_at\"] = [elem.replace(\"Nov\", \"11\") for elem in df[\"user_created_at\"]]\n",
        "df[\"user_created_at\"] = [elem.replace(\"Dec\", \"12\") for elem in df[\"user_created_at\"]]\n",
        "df[\"user_created_at\"]"
      ]
    },
    {
      "cell_type": "code",
      "execution_count": null,
      "metadata": {
        "id": "xmr_fj4PPRmo"
      },
      "outputs": [],
      "source": [
        "#3 Pobierz wszystkie linki do tweetów i przekaż je do listy.\n",
        "tweety = df[\"tweet_url\"]\n",
        "tweety.tolist()"
      ]
    },
    {
      "cell_type": "code",
      "execution_count": null,
      "metadata": {
        "id": "eWxazeEdQwWw"
      },
      "outputs": [],
      "source": [
        "from numpy.core.numeric import NaN\n",
        "#4 Pobierz wszystkie linki znajdujące się w tweetach i przekaż je do listy (kolumna urls)\n",
        "urls = df[\"urls\"]\n",
        "linki = []\n",
        "war = urls.isnull()\n",
        "k = 1\n",
        "\n",
        "for i in range(0,7278):\n",
        "  if war.loc[k] == False:\n",
        "    linki.append(urls[k])\n",
        "  k = k + 1\n",
        "\n",
        "linki"
      ]
    },
    {
      "cell_type": "code",
      "execution_count": null,
      "metadata": {
        "id": "2apugW6qzrZi"
      },
      "outputs": [],
      "source": [
        "#5 Pobierz wszystkie linki do obrazków i przekaż je do listy (kolumna media).\n",
        "media = df[\"media\"]\n",
        "obrazy = []\n",
        "war2 = media.isnull()\n",
        "k = 1\n",
        "\n",
        "for i in range(0,7278):\n",
        "  if war2.loc[k] == False:\n",
        "    obrazy.append(media[k])\n",
        "  k = k + 1\n",
        "\n",
        "obrazy"
      ]
    },
    {
      "cell_type": "code",
      "execution_count": null,
      "metadata": {
        "id": "9foS_d7f1SSH"
      },
      "outputs": [],
      "source": [
        "#6 - Usuń wszystkie słowa oznaczone jako stopwords i przekaż oczyszczony tekst do nowej kolumny o nazwie text_without_stopwords\n",
        "sw_spacy = nlp.Defaults.stop_words\n",
        "sw_spacy"
      ]
    },
    {
      "cell_type": "code",
      "source": [
        "df['text_without_stopwords'] = df['text'].apply(lambda x: ' '.join([word for word in x.split() if word not in (sw_spacy)]))"
      ],
      "metadata": {
        "id": "qRufHlZDKO1G"
      },
      "execution_count": null,
      "outputs": []
    },
    {
      "cell_type": "code",
      "source": [
        "df[['text_without_stopwords', 'text']]"
      ],
      "metadata": {
        "id": "fBWVA9O3KU_n"
      },
      "execution_count": null,
      "outputs": []
    },
    {
      "cell_type": "markdown",
      "metadata": {
        "id": "aUBYcYZA3kR5"
      },
      "source": [
        "Część 2"
      ]
    },
    {
      "cell_type": "code",
      "execution_count": null,
      "metadata": {
        "id": "M2iivobU3lUj"
      },
      "outputs": [],
      "source": [
        "#1 Wypisz top5 tweetów z największa liczbą polubień.\n",
        "df.sort_values(\"favorite_count\", ascending = False).head(5)"
      ]
    },
    {
      "cell_type": "code",
      "execution_count": null,
      "metadata": {
        "id": "E3chPjhG-qxn"
      },
      "outputs": [],
      "source": [
        "#2 Wypisz top5 tweetów z największa liczbą retweetów.\n",
        "df.sort_values(\"retweet_count\", ascending = False).head(5)"
      ]
    },
    {
      "cell_type": "code",
      "execution_count": null,
      "metadata": {
        "id": "XlQo9ACD-0PB"
      },
      "outputs": [],
      "source": [
        "#3 Wyświetl tylko te tweety, które nie są uznane jako “wrażliwe” (kolumna possibly_sensitive).\n",
        "df[df.possibly_sensitive != True]"
      ]
    },
    {
      "cell_type": "code",
      "execution_count": null,
      "metadata": {
        "id": "2m1JRXQA_UIs"
      },
      "outputs": [],
      "source": [
        "#4 Wyświetl tweety użytkownika, który założył konto najwcześniej (spośród wszystkich użytkowników w datasecie) (kolumna user_created_at).\n",
        "df['user_created_at'] = pd.to_datetime(df['user_created_at'])\n",
        "date = df['user_created_at'].min()\n",
        "najstarszy_użytkownik = df.loc[df.user_created_at == date, 'user_id'].values[0]\n",
        "\n",
        "df[df.user_id == najstarszy_użytkownik]"
      ]
    },
    {
      "cell_type": "code",
      "execution_count": null,
      "metadata": {
        "id": "hpT1MgRD_Uqh"
      },
      "outputs": [],
      "source": [
        "#5 Wyświetl tweety użytkownika. który ma najwięcej followersów.\n",
        "najwięcej_followers = df['user_followers_count'].max()\n",
        "followers = df.loc[df.user_followers_count == najwięcej_followers, 'user_id'].values[0]\n",
        "\n",
        "df[df.user_id == followers]"
      ]
    },
    {
      "cell_type": "code",
      "execution_count": null,
      "metadata": {
        "id": "Y3g0ECiy_VPY"
      },
      "outputs": [],
      "source": [
        "#6 Wyświetl tylko zweryfikowanych użytkowników (kolumna user_verified)\n",
        "df[df.user_verified == True]"
      ]
    },
    {
      "cell_type": "code",
      "execution_count": 11,
      "metadata": {
        "id": "LXg0o3VW_V1K",
        "colab": {
          "base_uri": "https://localhost:8080/"
        },
        "outputId": "0bb48099-f3cf-44a6-d623-431366634c79"
      },
      "outputs": [
        {
          "output_type": "stream",
          "name": "stdout",
          "text": [
            "3335\n",
            "675\n",
            "743\n",
            "488\n",
            "456\n",
            "488\n",
            "1093\n"
          ]
        }
      ],
      "source": [
        "#7 Podaj, w który dzień tygodnia najczęściej były publikowane tweety z datasetu\n",
        "zmienna = df[\"created_at\"]\n",
        "\n",
        "Poniedzialek = 0\n",
        "Wtorek = 0\n",
        "Sroda = 0\n",
        "Czwartek = 0 \n",
        "Piatek = 0\n",
        "Sobota = 0 \n",
        "Niedziela = 0\n",
        "\n",
        "k = 0\n",
        "\n",
        "for i in range(0,7278):\n",
        "  a = zmienna[k]\n",
        "  if a[0:2] == \"Po\":\n",
        "    Poniedzialek = Poniedzialek + 1\n",
        "  elif a[0] == \"W\":\n",
        "      Wtorek = Wtorek + 1\n",
        "  elif a[0] == \"Ś\":\n",
        "        Sroda = Sroda + 1\n",
        "  elif a[0] == \"C\":\n",
        "          Czwartek = Czwartek + 1\n",
        "  elif a[0:2] == \"Pi\":\n",
        "            Piatek = Piatek + 1\n",
        "  elif a[0] == \"S\":\n",
        "              Sobota = Sobota + 1\n",
        "  elif a[0] == \"N\":\n",
        "                Niedziela = Niedziela + 1\n",
        "  k = k + 1\n",
        "\n",
        "\n",
        "print(Poniedzialek)\n",
        "print(Wtorek)\n",
        "print(Sroda)\n",
        "print(Czwartek)\n",
        "print(Piatek)\n",
        "print(Sobota)\n",
        "print(Niedziela)\n",
        "#najwiecej jest w poniedziałek"
      ]
    },
    {
      "cell_type": "markdown",
      "metadata": {
        "id": "uqL6Lb-1_WZJ"
      },
      "source": [
        "Część 3"
      ]
    },
    {
      "cell_type": "code",
      "execution_count": null,
      "metadata": {
        "id": "67lSdH2Y_XoO"
      },
      "outputs": [],
      "source": [
        "#1 Rozpoznaj osoby (persName) i przekaż je do kolumny o nazwie persons\n",
        "doc =[nlp(x) for x in df[\"text\"]]\n",
        "\n",
        "osoby_lista = []\n",
        "for tweet in doc:\n",
        "  osoby = \"\"\n",
        "  for keyword in tweet.ents:\n",
        "    if keyword.label_ == \"persName\":\n",
        "      osoby = osoby + keyword.text + \", \"\n",
        "  \n",
        "  osoby_lista.append(osoby)\n",
        "\n",
        "assert len(osoby_lista) == df.shape[0]\n",
        "df[\"Persons\"] = osoby_lista"
      ]
    },
    {
      "cell_type": "code",
      "source": [
        "df[\"Persons\"]"
      ],
      "metadata": {
        "id": "-aTyESBrOmSn"
      },
      "execution_count": null,
      "outputs": []
    },
    {
      "cell_type": "code",
      "source": [
        "#2 Rozpoznaj miejsca (placeName) i przekaż je do kolumny o nazwie places\n",
        "miejsca = []\n",
        "for tweet in doc:\n",
        "  places = \"\"\n",
        "  for keyword in tweet.ents:\n",
        "    if keyword.label_ == \"placeName\":\n",
        "      places = places + keyword.text + \", \"\n",
        "  \n",
        "  miejsca.append(places)\n",
        "\n",
        "assert len(miejsca) == df.shape[0]\n",
        "df[\"Places\"] = miejsca"
      ],
      "metadata": {
        "id": "9-pzDmigAU2n"
      },
      "execution_count": null,
      "outputs": []
    },
    {
      "cell_type": "code",
      "source": [
        "df[\"Places\"]"
      ],
      "metadata": {
        "id": "ukh4APmwO-RZ"
      },
      "execution_count": null,
      "outputs": []
    },
    {
      "cell_type": "code",
      "source": [
        "#3 Rozpoznaj organizacje (orgName) i przekaż je do kolumny o nazwie organizations\n",
        "organizacje = []\n",
        "for tweet in doc:\n",
        "  org = \"\"\n",
        "  for keyword in tweet.ents:\n",
        "    if keyword.label_ == \"orgName\":\n",
        "      org = org + keyword.text + \", \"\n",
        "  \n",
        "  organizacje.append(org)\n",
        "\n",
        "assert len(organizacje) == df.shape[0]\n",
        "df[\"Organizations\"] = organizacje"
      ],
      "metadata": {
        "id": "mePNX4rSAVa7"
      },
      "execution_count": null,
      "outputs": []
    },
    {
      "cell_type": "code",
      "source": [
        "df[\"Organizations\"]"
      ],
      "metadata": {
        "id": "Wjwhk-n6PR_e"
      },
      "execution_count": null,
      "outputs": []
    },
    {
      "cell_type": "code",
      "source": [
        "#4 Stwórz model, który rozpozna hashtagi w treści tweeta. Następnie przekaż je do kolumny o nazwie hashtags\n",
        "nlp = spacy.blank(\"pl\")\n",
        "ruler = nlp.add_pipe(\"entity_ruler\")\n",
        "\n",
        "pattern = \"\\S+\"\n",
        "patterns = [{\"label\": \"NUMER_TELEFONU\", \"pattern\": [{\"ORTH\": \"#\"}, {\"TEXT\": {\"REGEX\": pattern}}]}]\n",
        "\n",
        "ruler.add_patterns(patterns)"
      ],
      "metadata": {
        "id": "a5P1EBnEAV2A"
      },
      "execution_count": 13,
      "outputs": []
    },
    {
      "cell_type": "code",
      "source": [
        "doc = [nlp(x) for x in df[\"text\"]]\n",
        "hasztagi = []\n",
        "\n",
        "for tweet in doc:\n",
        "  hasztag =[]\n",
        "  for keyword in tweet.ents:\n",
        "    if keyword.label == \"Hashtag\":\n",
        "      hasztag = hasztag + keyword.text + \", \"\n",
        "  hasztagi.append(hasztagi)\n",
        "\n",
        "df[\"hasztagi\"] = hasztagi"
      ],
      "metadata": {
        "id": "z9lfBE-GBt8o"
      },
      "execution_count": null,
      "outputs": []
    },
    {
      "cell_type": "markdown",
      "source": [
        "Część 4"
      ],
      "metadata": {
        "id": "rtIgtsQKLj_r"
      }
    },
    {
      "cell_type": "code",
      "source": [
        "#1 Wykorzystując pakiet matplotlib wykonaj wykres ilustrujący liczbę tweetów per dzień tygodnia\n",
        "import matplotlib as mpl\n",
        "import matplotlib.pyplot as plt"
      ],
      "metadata": {
        "id": "Fl8o1SVuLng8"
      },
      "execution_count": 9,
      "outputs": []
    },
    {
      "cell_type": "code",
      "source": [
        "names = [\"Poniedziałek\", \"Wtorek\", \"Środa\", \"Czwartek\", \"Piątek\", \"Sobota\", \"Niedziela\"]\n",
        "values = [Poniedzialek, Wtorek, Sroda, Czwartek, Piatek, Sobota, Niedziela]\n",
        "\n",
        "plt.figure(figsize=(30, 8))\n",
        "\n",
        "plt.subplot(131)\n",
        "plt.bar(names, values)\n",
        "plt.suptitle(\"Liczba tweetów wg dnia tygodnia\")\n",
        "plt.show()"
      ],
      "metadata": {
        "id": "qbjSNbx6bKiz",
        "colab": {
          "base_uri": "https://localhost:8080/",
          "height": 540
        },
        "outputId": "0c5e69e0-02bd-4e4e-8242-29465be83fdb"
      },
      "execution_count": 12,
      "outputs": [
        {
          "output_type": "display_data",
          "data": {
            "image/png": "[encoded data removed]",
            "text/plain": [
              "<Figure size 2160x576 with 1 Axes>"
            ]
          },
          "metadata": {
            "needs_background": "light"
          }
        }
      ]
    }
  ],
  "metadata": {
    "colab": {
      "collapsed_sections": [],
      "name": "projekt_zaliczeniowy_natalia_kosik_2.ipynb",
      "provenance": []
    },
    "kernelspec": {
      "display_name": "Python 3",
      "name": "python3"
    },
    "language_info": {
      "name": "python"
    }
  },
  "nbformat": 4,
  "nbformat_minor": 0
}